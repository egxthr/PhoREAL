{
 "cells": [
  {
   "cell_type": "markdown",
   "id": "b9aaca9e",
   "metadata": {},
   "source": [
    "## Quick Start PhoREAL ##\n",
    "\n",
    "*Tiny* notebook on how to get started with PhoREAL and how to read in ATL03 and ATL08 `.h5` files.  This demo will read in an ATL03 use its associated ATL08 file to it for a specific ground track.  PhoREAL will read the information in the ATL03 `heights` subgroup that represents the data the photon rate.  Once read, the Pandas Dataframe can be read and operated with normal Pandas operators.\n",
    "\n",
    "Start by importing `phoreal`"
   ]
  },
  {
   "cell_type": "code",
   "execution_count": null,
   "id": "d3a7e008",
   "metadata": {},
   "outputs": [],
   "source": [
    "import phoreal as pr"
   ]
  },
  {
   "cell_type": "markdown",
   "id": "f227d36a",
   "metadata": {},
   "source": [
    "Within `phoreal` use the submodule `reader` to read the ATL03 file as a PhoREAL object. The ATL08 file can also be in to load in the ATL08 photon rate canopy and ground classifications and normalized heights."
   ]
  },
  {
   "cell_type": "code",
   "execution_count": null,
   "id": "d558afca",
   "metadata": {},
   "outputs": [],
   "source": [
    "atl03_file = '~/foo/ATL03_20200208094726_06670606_005_01.h5'\n",
    "atl08_file = '~/foo/ATL03_20200208094726_06670606_005_01.h5'"
   ]
  },
  {
   "cell_type": "markdown",
   "id": "bbd87f10",
   "metadata": {},
   "source": [
    "Also define which groundtrack to be read in, the options are: `gt1l`,`gt1r`,`gt2l`,`gt2r`,`gt3l`,`gt3r`"
   ]
  },
  {
   "cell_type": "code",
   "execution_count": null,
   "id": "9bcdc4c1",
   "metadata": {},
   "outputs": [],
   "source": [
    "gt = 'gt1r' "
   ]
  },
  {
   "cell_type": "markdown",
   "id": "cf69972b",
   "metadata": {},
   "source": [
    "And now read the file.."
   ]
  },
  {
   "cell_type": "code",
   "execution_count": null,
   "id": "8b522cd9",
   "metadata": {},
   "outputs": [],
   "source": [
    "atl03 = pr.reader.get_atl03_struct(atl03_file, gt, atl08_file)"
   ]
  },
  {
   "cell_type": "markdown",
   "id": "150678f7",
   "metadata": {},
   "source": [
    "Here we can verify the Pandas Dataframe that represents the `heights` subgroup.  We can examine the columns using a standard Pandas call:"
   ]
  },
  {
   "cell_type": "code",
   "execution_count": null,
   "id": "896a2454",
   "metadata": {},
   "outputs": [],
   "source": [
    "print(atl03.df.columns)"
   ]
  },
  {
   "cell_type": "markdown",
   "id": "91f73dcf",
   "metadata": {},
   "source": []
  }
 ],
 "metadata": {
  "kernelspec": {
   "display_name": "Python 3 (ipykernel)",
   "language": "python",
   "name": "python3"
  },
  "language_info": {
   "codemirror_mode": {
    "name": "ipython",
    "version": 3
   },
   "file_extension": ".py",
   "mimetype": "text/x-python",
   "name": "python",
   "nbconvert_exporter": "python",
   "pygments_lexer": "ipython3",
   "version": "3.8.0"
  }
 },
 "nbformat": 4,
 "nbformat_minor": 5
}
