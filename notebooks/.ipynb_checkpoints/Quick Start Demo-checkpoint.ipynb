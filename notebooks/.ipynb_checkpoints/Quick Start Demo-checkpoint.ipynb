{
 "cells": [
  {
   "cell_type": "markdown",
   "id": "0fd6567c",
   "metadata": {},
   "source": [
    "## Quick Start PhoREAL ##\n",
    "Small snippet on how to get started with PhoREAL.  PhoREAL will read a specific ground track and pull out all fields within the 'Heights' subgroup, the subgroup that represents at photon rate data in the ATL03 h5 file.  Data within this subfield will be loaded into a Pandas Dataframe, that can easily be operated on with standard Pandas operators.\n",
    "\n",
    "Start by importing `phoreal`"
   ]
  },
  {
   "cell_type": "code",
   "execution_count": 1,
   "id": "a5affcea",
   "metadata": {},
   "outputs": [],
   "source": [
    "import phoreal as pr"
   ]
  },
  {
   "cell_type": "markdown",
   "id": "63157591",
   "metadata": {},
   "source": [
    "Within `phoreal` use the submodule `reader` to read the ATL03 file as a PhoREAL object."
   ]
  },
  {
   "cell_type": "code",
   "execution_count": 2,
   "id": "93ec2972",
   "metadata": {},
   "outputs": [],
   "source": [
    "atl03_file = '/mnt/bigtex/vol1/Data/ICESat-2/REL005/ATL03/PRF/ATL03_20200208094726_06670606_005_01.h5'\n",
    "gt = 'gt1r'\n",
    "atl08_file = '/mnt/bigtex/vol1/Data/ICESat-2/REL005/ATL08/PRF/ATL08/ATL08_20200208094726_06670606_005_01.h5'\n",
    "\n",
    "atl03 = pr.icesatReader.get_atl03_struct(atl03_file, gt, atl08_file)"
   ]
  },
  {
   "cell_type": "markdown",
   "id": "e9259115",
   "metadata": {},
   "source": [
    "Here we can verify the pandas dataframe that represents the heights field.  We can examine the columns using a standard pandas call."
   ]
  },
  {
   "cell_type": "code",
   "execution_count": 3,
   "id": "941d82c5",
   "metadata": {},
   "outputs": [
    {
     "ename": "AttributeError",
     "evalue": "'DataFrame' object has no attribute 'cols'",
     "output_type": "error",
     "traceback": [
      "\u001b[0;31m---------------------------------------------------------------------------\u001b[0m",
      "\u001b[0;31mAttributeError\u001b[0m                            Traceback (most recent call last)",
      "Input \u001b[0;32mIn [3]\u001b[0m, in \u001b[0;36m<cell line: 1>\u001b[0;34m()\u001b[0m\n\u001b[0;32m----> 1\u001b[0m \u001b[38;5;28mprint\u001b[39m(\u001b[43matl03\u001b[49m\u001b[38;5;241;43m.\u001b[39;49m\u001b[43mdf\u001b[49m\u001b[38;5;241;43m.\u001b[39;49m\u001b[43mcols\u001b[49m)\n",
      "File \u001b[0;32m~/miniconda3/envs/test38_4/lib/python3.8/site-packages/pandas-1.5.1-py3.8-linux-x86_64.egg/pandas/core/generic.py:5902\u001b[0m, in \u001b[0;36mNDFrame.__getattr__\u001b[0;34m(self, name)\u001b[0m\n\u001b[1;32m   5895\u001b[0m \u001b[38;5;28;01mif\u001b[39;00m (\n\u001b[1;32m   5896\u001b[0m     name \u001b[38;5;129;01mnot\u001b[39;00m \u001b[38;5;129;01min\u001b[39;00m \u001b[38;5;28mself\u001b[39m\u001b[38;5;241m.\u001b[39m_internal_names_set\n\u001b[1;32m   5897\u001b[0m     \u001b[38;5;129;01mand\u001b[39;00m name \u001b[38;5;129;01mnot\u001b[39;00m \u001b[38;5;129;01min\u001b[39;00m \u001b[38;5;28mself\u001b[39m\u001b[38;5;241m.\u001b[39m_metadata\n\u001b[1;32m   5898\u001b[0m     \u001b[38;5;129;01mand\u001b[39;00m name \u001b[38;5;129;01mnot\u001b[39;00m \u001b[38;5;129;01min\u001b[39;00m \u001b[38;5;28mself\u001b[39m\u001b[38;5;241m.\u001b[39m_accessors\n\u001b[1;32m   5899\u001b[0m     \u001b[38;5;129;01mand\u001b[39;00m \u001b[38;5;28mself\u001b[39m\u001b[38;5;241m.\u001b[39m_info_axis\u001b[38;5;241m.\u001b[39m_can_hold_identifiers_and_holds_name(name)\n\u001b[1;32m   5900\u001b[0m ):\n\u001b[1;32m   5901\u001b[0m     \u001b[38;5;28;01mreturn\u001b[39;00m \u001b[38;5;28mself\u001b[39m[name]\n\u001b[0;32m-> 5902\u001b[0m \u001b[38;5;28;01mreturn\u001b[39;00m \u001b[38;5;28;43mobject\u001b[39;49m\u001b[38;5;241;43m.\u001b[39;49m\u001b[38;5;21;43m__getattribute__\u001b[39;49m\u001b[43m(\u001b[49m\u001b[38;5;28;43mself\u001b[39;49m\u001b[43m,\u001b[49m\u001b[43m \u001b[49m\u001b[43mname\u001b[49m\u001b[43m)\u001b[49m\n",
      "\u001b[0;31mAttributeError\u001b[0m: 'DataFrame' object has no attribute 'cols'"
     ]
    }
   ],
   "source": [
    "print(atl03.df.columns)"
   ]
  },
  {
   "cell_type": "markdown",
   "id": "7695fc23",
   "metadata": {},
   "source": []
  }
 ],
 "metadata": {
  "kernelspec": {
   "display_name": "Python 3 (ipykernel)",
   "language": "python",
   "name": "python3"
  },
  "language_info": {
   "codemirror_mode": {
    "name": "ipython",
    "version": 3
   },
   "file_extension": ".py",
   "mimetype": "text/x-python",
   "name": "python",
   "nbconvert_exporter": "python",
   "pygments_lexer": "ipython3",
   "version": "3.8.0"
  }
 },
 "nbformat": 4,
 "nbformat_minor": 5
}
